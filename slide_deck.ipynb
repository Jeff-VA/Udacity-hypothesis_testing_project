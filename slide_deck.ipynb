{
 "cells": [
  {
   "cell_type": "markdown",
   "metadata": {
    "slideshow": {
     "slide_type": "slide"
    }
   },
   "source": [
    "# An Analysis of A/B Test Results\n",
    "## by Jeffrey Van Anderson"
   ]
  },
  {
   "cell_type": "markdown",
   "metadata": {
    "slideshow": {
     "slide_type": "slide"
    }
   },
   "source": [
    "## Overview of  A/B Testing\n",
    "\n",
    "In order analyze an experiment in way that determines whether or not there is any statistical significance, a useful scientific method is the A/B test.  In order to carry out this type of experiment objectively, it is integral that there is an attempt to disprove the effectiveness of the treatment group.  In turn, there is a \"null\" hypothesis that states there is no statistical difference from the contol group for the treatment group.  Additionally, the alternitave hypothesis states that there is a statistically significant difference.  The point of A/B testing is to prove the null hypothesis, and if this fails, then the alternative hypothesis is excepted."
   ]
  },
  {
   "cell_type": "markdown",
   "metadata": {
    "slideshow": {
     "slide_type": "slide"
    }
   },
   "source": [
    "## Scenario\n",
    "\n",
    "In this hypothetical scenario, a simple data set of two web pages for an e-commerce website are analyzed.  With a new webpage tested as a treatment group, and the old webpage as the control group, the company wants to know whether or not the new web page increases the \"conversion\" rate.  The conversion rate is the proportion of website users that buy the companies product.  \n",
    "\n",
    "In order to test the new page for statistical significance in a realiable and scientific way, the results must be tested against the possibility of random distibution in results.  The following demonstrates how this type of test can be performed using a bootstrapped simulation in python."
   ]
  },
  {
   "cell_type": "markdown",
   "metadata": {
    "slideshow": {
     "slide_type": "slide"
    }
   },
   "source": [
    "## Observed Test Results\n",
    "\n",
    "Prior to any statistical analysis, there appears to be a slightly worse conversion rate for the tratment group than the control group.  The results are as follows:\n",
    "\n",
    "| Group      |  Conversion Rate |\n",
    "| :--------: | :--------------: |\n",
    "| Both       | 11.96%           |\n",
    "| Treatment  | 11.88%           |\n",
    "| Control    | 12.04%           |\n"
   ]
  },
  {
   "cell_type": "markdown",
   "metadata": {
    "slideshow": {
     "slide_type": "slide"
    }
   },
   "source": [
    "## Simulation\n",
    "\n",
    "In order to determine whether the observed data actually does fail to disprove the null hypothesis that the control group is converted at least as often as the treatment group or if more data is needed, 10,000 iterations of simulated differences in conversion rates is collected.\n",
    "\n",
    "The following histogram shows the distribution of simulated differences as compared to the observed difference in conversion rates. "
   ]
  },
  {
   "cell_type": "code",
   "execution_count": 1,
   "metadata": {
    "slideshow": {
     "slide_type": "skip"
    }
   },
   "outputs": [],
   "source": [
    "#Import necessary packages\n",
    "import pandas as pd\n",
    "import numpy as np\n",
    "import random\n",
    "import matplotlib.pyplot as plt\n",
    "import seaborn as sns\n",
    "%matplotlib inline\n",
    "\n",
    "#for consistent output\n",
    "random.seed(42)\n",
    "\n",
    "#the seaborn set method is used to help with histogram formatting\n",
    "sns.set()\n"
   ]
  },
  {
   "cell_type": "code",
   "execution_count": 2,
   "metadata": {
    "slideshow": {
     "slide_type": "skip"
    }
   },
   "outputs": [],
   "source": [
    "#use the pandas read_csv method to import dataframe and view first five lines\n",
    "df = pd.read_csv('ab_data.csv')\n",
    "\n"
   ]
  },
  {
   "cell_type": "code",
   "execution_count": 3,
   "metadata": {
    "slideshow": {
     "slide_type": "skip"
    }
   },
   "outputs": [
    {
     "name": "stdout",
     "output_type": "stream",
     "text": [
      "number of unmatched rows: 3893\n"
     ]
    }
   ],
   "source": [
    "#filters rows where group is treatment and not new page into the variable nomatch1\n",
    "nomatch1 = df.query(\"group == 'treatment' and landing_page != 'new_page'\")\n",
    "\n",
    "#fiters rows where the landing page is new_page and the group is not tratment into the variable nomatch2\n",
    "nomatch2 = df.query(\"group != 'treatment' and landing_page == 'new_page'\")\n",
    "\n",
    "#the nomatch variable is the combination of the count of nomatch1 and nomatch2. nomatch.user_id is then displayed\n",
    "#as a count of unmatched rows\n",
    "nomatch = nomatch1.count() + nomatch2.count()\n",
    "print('number of unmatched rows:', nomatch.user_id)\n"
   ]
  },
  {
   "cell_type": "code",
   "execution_count": 4,
   "metadata": {
    "slideshow": {
     "slide_type": "skip"
    }
   },
   "outputs": [],
   "source": [
    "#two querys are stored in two dataframes that contain rows where 'treatment' group matches 'new_page' and 'control' group\n",
    "#matches 'old_page'.\n",
    "match_new = df.query(\"group == 'treatment' and landing_page == 'new_page'\")\n",
    "match_old = df.query(\"group == 'control' and landing_page == 'old_page'\")\n",
    "#the frist dataframe is appended to the other and saved under the variable: 'df2'\n",
    "df2 = match_new.append(match_old)"
   ]
  },
  {
   "cell_type": "code",
   "execution_count": 5,
   "metadata": {
    "slideshow": {
     "slide_type": "skip"
    }
   },
   "outputs": [
    {
     "data": {
      "text/plain": [
       "0"
      ]
     },
     "execution_count": 5,
     "metadata": {},
     "output_type": "execute_result"
    }
   ],
   "source": [
    "# Double Check all of the correct rows were removed - this should be 0\n",
    "df2[((df2['group'] == 'treatment') == (df2['landing_page'] == 'new_page')) == False].shape[0]"
   ]
  },
  {
   "cell_type": "code",
   "execution_count": 6,
   "metadata": {
    "slideshow": {
     "slide_type": "skip"
    }
   },
   "outputs": [],
   "source": [
    "#drops one of the repeated user_id rows by index number\n",
    "df2 = df2.drop(index=2893)\n"
   ]
  },
  {
   "cell_type": "code",
   "execution_count": 7,
   "metadata": {
    "slideshow": {
     "slide_type": "skip"
    }
   },
   "outputs": [
    {
     "name": "stdout",
     "output_type": "stream",
     "text": [
      "control group conversion rate: 0.1203863045004612\n"
     ]
    }
   ],
   "source": [
    "#filters rows by 'control' group and finds the proportion of converted users.\n",
    "control_rate = df2.query(\"group == 'control'\")['converted'].mean()\n",
    "print('control group conversion rate:', control_rate)\n"
   ]
  },
  {
   "cell_type": "code",
   "execution_count": 8,
   "metadata": {
    "slideshow": {
     "slide_type": "skip"
    }
   },
   "outputs": [
    {
     "name": "stdout",
     "output_type": "stream",
     "text": [
      "treatment group conversion rate: 0.11880806551510564\n"
     ]
    }
   ],
   "source": [
    "#filters rows by 'treatment' group and finds proportion of converted users\n",
    "treatment_rate = df2.query(\"group == 'treatment'\")['converted'].mean()\n",
    "print('treatment group conversion rate:', treatment_rate)\n"
   ]
  },
  {
   "cell_type": "code",
   "execution_count": 9,
   "metadata": {
    "slideshow": {
     "slide_type": "skip"
    }
   },
   "outputs": [
    {
     "name": "stdout",
     "output_type": "stream",
     "text": [
      "the null conversion rate is: 0.11959708724499628\n"
     ]
    }
   ],
   "source": [
    "#the conversion rateis assumed to be equal for both groups\n",
    "null_rate = df2.converted.mean()\n",
    "print('the null conversion rate is:', null_rate)\n"
   ]
  },
  {
   "cell_type": "code",
   "execution_count": 10,
   "metadata": {
    "slideshow": {
     "slide_type": "skip"
    }
   },
   "outputs": [
    {
     "name": "stdout",
     "output_type": "stream",
     "text": [
      "number of individuals in treatment group: 145310\n"
     ]
    }
   ],
   "source": [
    "#df2 is filtered by the 'treatment' group and counted.  The result is assigned to the n_new variable\n",
    "n_new = df2[df2['group'] == 'treatment']['user_id'].count()\n",
    "print('number of individuals in treatment group:', n_new)\n"
   ]
  },
  {
   "cell_type": "code",
   "execution_count": 11,
   "metadata": {
    "slideshow": {
     "slide_type": "skip"
    }
   },
   "outputs": [
    {
     "name": "stdout",
     "output_type": "stream",
     "text": [
      "number of individuals in control group: 145274\n"
     ]
    }
   ],
   "source": [
    "#df2 is filtered by the 'control' group and counted.  The result is assigned to the n_old variable\n",
    "n_old = df2[df2['group'] == 'control']['user_id'].count()\n",
    "print('number of individuals in control group:', n_old)\n"
   ]
  },
  {
   "cell_type": "code",
   "execution_count": 12,
   "metadata": {
    "slideshow": {
     "slide_type": "skip"
    }
   },
   "outputs": [],
   "source": [
    "#numpy.random.choice() is used to simulate conversions based on the number of individuals in the treatment group \n",
    "#and the null conversion rate.\n",
    "new_page_converted = np.random.choice(2, size=n_new, p=[(1 - null_rate), null_rate])\n"
   ]
  },
  {
   "cell_type": "code",
   "execution_count": 13,
   "metadata": {
    "slideshow": {
     "slide_type": "skip"
    }
   },
   "outputs": [],
   "source": [
    "#numpy.random.choice() is used to simulate conversions based on the number of individuals in the control group \n",
    "#and the null conversion rate.\n",
    "old_page_converted = np.random.choice(2, size=n_old, p=[(1 - null_rate), null_rate])\n"
   ]
  },
  {
   "cell_type": "code",
   "execution_count": 14,
   "metadata": {
    "slideshow": {
     "slide_type": "skip"
    }
   },
   "outputs": [],
   "source": [
    "#this iterates the previous simulation steps: a-g 1000 times to find the differences in means under the null hypothesis.  \n",
    "#each resulting difference is appended to a list assigned to the variable: p_diffs.\n",
    "p_diffs = []\n",
    "for i in range(1000):\n",
    "    new_bootstrap = np.random.choice(2, size=n_new, p=[(1 - null_rate), null_rate]).mean()\n",
    "    old_bootstrap = np.random.choice(2, size=n_old, p=[(1 - null_rate), null_rate]).mean()\n",
    "    p_diffs.append(new_bootstrap - old_bootstrap)\n"
   ]
  },
  {
   "cell_type": "code",
   "execution_count": 15,
   "metadata": {
    "slideshow": {
     "slide_type": "skip"
    }
   },
   "outputs": [],
   "source": [
    "#the list: p_diffs is converted to a numpy array for more efficient implementation of functions\n",
    "p_diffs = np.array(p_diffs)\n"
   ]
  },
  {
   "cell_type": "code",
   "execution_count": 16,
   "metadata": {
    "slideshow": {
     "slide_type": "skip"
    }
   },
   "outputs": [
    {
     "data": {
      "text/plain": [
       "-0.0015782389853555567"
      ]
     },
     "execution_count": 16,
     "metadata": {},
     "output_type": "execute_result"
    }
   ],
   "source": [
    "#the observed difference in 'control' and 'treatment' group conversions is assigned to the variable: obs_diff\n",
    "obs_diff = treatment_rate - control_rate\n",
    "obs_diff\n"
   ]
  },
  {
   "cell_type": "code",
   "execution_count": 22,
   "metadata": {
    "slideshow": {
     "slide_type": "subslide"
    }
   },
   "outputs": [
    {
     "data": {
      "image/png": "[encoded data removed]",
      "text/plain": [
       "<Figure size 576x432 with 1 Axes>"
      ]
     },
     "metadata": {
      "needs_background": "light"
     },
     "output_type": "display_data"
    }
   ],
   "source": [
    "#for ease of visualization, the obseved difference is plotted as an x intercept red line over the previously calculated \n",
    "#normal distribution\n",
    "plt.figure(figsize=(8,6))\n",
    "plt.hist(p_diffs)\n",
    "plt.title('Simulated distribution of sample size differences under null conversion rate', fontsize=20)\n",
    "plt.xlabel('Simulated sample size differences', fontsize=12)\n",
    "plt.ylabel('Count of simulations', fontsize=12)\n",
    "plt.axvline(x=obs_diff, color='red');\n"
   ]
  },
  {
   "cell_type": "markdown",
   "metadata": {
    "slideshow": {
     "slide_type": "slide"
    }
   },
   "source": [
    "## Interpreting the Simulated Results\n",
    "\n",
    "Noting that the verticle red line in the previous histogram is the observed difference in simulated results, a p-value of the observed difference under the null hypothesis is around 0.90.  In other words, it is extremely likely that the control page has at least the conversion rate of the treatment page.  Typically, a p-value that disproves a null hypothesis is below 0.05 depending on the the data."
   ]
  },
  {
   "cell_type": "markdown",
   "metadata": {
    "slideshow": {
     "slide_type": "slide"
    }
   },
   "source": [
    "## Why Hypothesis Test?\n",
    "\n",
    "Although it may seam easy to infer that the treatment page is not effective from the observed data, this is merely a guess without additional analysis.  The use of inferential statistics help remove some of the guess work from data analysis."
   ]
  }
 ],
 "metadata": {
  "celltoolbar": "Slideshow",
  "kernelspec": {
   "display_name": "Python 3",
   "language": "python",
   "name": "python3"
  },
  "language_info": {
   "codemirror_mode": {
    "name": "ipython",
    "version": 3
   },
   "file_extension": ".py",
   "mimetype": "text/x-python",
   "name": "python",
   "nbconvert_exporter": "python",
   "pygments_lexer": "ipython3",
   "version": "3.7.2"
  }
 },
 "nbformat": 4,
 "nbformat_minor": 2
}
